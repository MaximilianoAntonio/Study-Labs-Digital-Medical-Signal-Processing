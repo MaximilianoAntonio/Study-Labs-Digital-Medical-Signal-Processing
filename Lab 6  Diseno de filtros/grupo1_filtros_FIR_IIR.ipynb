{
 "cells": [
  {
   "cell_type": "markdown",
   "metadata": {
    "id": "K8bqNxChxu58"
   },
   "source": [
    "# **CBM414 Procesamiento digital de señales Biomédicas, Laboratorio 06**\n",
    "## Profesor: David Ortiz\n",
    "\n",
    "## Fecha de entrega: 27 de noviembre\n",
    "\n",
    "El objetivo de esta práctica es desarrollar y documentar códigos útiles para el filtrado de señales, que serán aplicables en el trabajo final del curso. Por ello, es fundamental que el código esté bien documentado y estructurado, permitiendo una comprensión clara de cada etapa del proceso de filtrado.\n",
    "\n",
    "### Entrega del Laboratorio\n",
    "- La entrega puede ser realizada en parejas.\n",
    "- El formato de entrega puede ser:\n",
    "  - Un Jupyter Notebook, donde se muestren tanto el código como los resultados.\n",
    "  - Un informe en PDF, generado en Word o LaTeX.\n",
    "- No olviden las unidades, ni los nombres de los ejes.\n",
    "  \n",
    "Si optan por entregar el laboratorio en formato de informe (Word o LaTeX), asegúrense de incluir el código empleado en el desarrollo de cada ejercicio. Además, se mandendran las bonificaciones de inglés y latex si el informe es entregado en formado PDF.\n",
    "\n",
    "\n",
    "### Punto 1: Análisis Espectral de Filtros FIR e IIR Pasa-Bajas\n",
    "\n",
    "En este punto, se realizará un análisis comparativo de los filtros FIR e IIR, visualizando la respuesta en frecuencia (magnitud y fase) de ambos en una única gráfica. Para esto, se debe utilizar un `subplot` donde la magnitud esté en la parte superior y la fase en la parte inferior, identificando adecuadamente los ejes con unidades y frecuencia de corte. **Nota: Para efectos de este punto, NO utilices dB como unidad en la magnitud**\n",
    "\n",
    "1.  **(0.5 Punto) Diseño y Cálculo de la Función de Transferencia**\n",
    "   Obtener un filtro pasa-bajas FIR utilizando una ventana cuadrada y un filtro IIR Butterworth. Usa los siguientes parámetros de diseño:\n",
    "\n",
    "  - Frecuencia de corte:  $f_c = 5$kHz\n",
    "  - Frecuencia de muestreo: $f_s = 20$kHz\n",
    "  - Orden del filtro FIR: 10\n",
    "  - Orden del filtro IIR Butterworth: 4\n",
    "     \n",
    "  Implementar cada filtro en Python y mostrar la función de transferencia $H(z)$ de cada uno. **Nota:** la función de transferencia debe ser explícita, es decir, contener las variables $z$.\n",
    "\n",
    "2. **(0.5 Punto) Gráficas de Magnitud y Fase Comparativas**\n",
    "  Graficar la respuesta en frecuencia (magnitud y fase) de ambos filtros, en dos configuraciones:\n",
    "     - Frecuencia normalizada (entre 0 y $\\pi$).\n",
    "     - Frecuencia en Hz (0 hasta $f_s/2$).\n",
    "\n",
    "  Brevemente describa que diferencias observadas.\n",
    "\n",
    "**Ayuda:** utiliza las funciones `signal.firwin`, `signal.butter` y `signal.freqz` de la librería `scipy.signal`.\n"
   ]
  },
  {
   "cell_type": "markdown",
   "metadata": {
    "id": "w6i_qy7i67xw"
   },
   "source": [
    "### Punto 2: Diseño de Filtros FIR e IIR para Diferentes Tipos de Respuesta\n",
    "\n",
    "En este punto, se diseñarán filtros FIR e IIR de diferentes tipos de respuesta utilizando los mismos parámetros de diseño del punto anterior. El objetivo es implementar y comparar las respuestas de filtros pasa-bajas, pasa-altas, pasa-banda y rechaza-banda. **Nota: Para efectos de este punto, NO utilices dB como unidad en la magnitud**\n",
    "\n",
    "**Parámetros de Diseño**\n",
    "\n",
    "Utilizar los siguientes parámetros para el diseño de todos los filtros:\n",
    "\n",
    "- Frecuencia de muestreo: $f_s = 20$kHz\n",
    "- Orden del filtro FIR: 10\n",
    "- Orden del filtro IIR Butterworth: 4\n",
    "\n",
    "**Diseño de Filtros para Diferentes Respuestas**\n",
    "\n",
    "Obtener un filtro (tanto FIR como IIR) para cada uno de los siguientes tipos de respuesta:\n",
    "\n",
    "1. **Pasa-bajas** con frecuencia de corte $f_c = 5$kHz\n",
    "2. **Pasa-altas** con frecuencia de corte $f_c = 5$kHz\n",
    "3. **Pasa-banda** con frecuencias de corte $ f_{c1} = 3.5$kHz y $f_{c2} = 5.5kHz$\n",
    "4. **Rechaza-banda** con frecuencias de corte $ f_{c1} = 3.5$kHz y $f_{c2} = 5.5kHz$\n",
    "\n",
    "Implementar cada filtro en Python utilizando `signal.firwin` para FIR y `signal.butter` para IIR.\n",
    "\n",
    "**(2 Puntos) Gráficas de Magnitud y Fase Comparativas**\n",
    "\n",
    "Para cada tipo de filtro diseñado (pasa-bajas, pasa-altas, pasa-banda y rechaza-banda), graficar la magnitud y fase de ambos filtros (FIR e IIR) superpuestos en función de la **frecuencia en Hz**. Brevemente describa las diferencias encontradas.\n"
   ]
  },
  {
   "cell_type": "markdown",
   "metadata": {
    "id": "-BnP4WhTAvSH"
   },
   "source": [
    "### Punto 3: Comparación de Filtros FIR con Diferentes Ventanas y Órdenes\n",
    "\n",
    "En este punto, se realizará una comparación entre filtros FIR e IIR de rechazo de banda. Se diseñará un filtro IIR Butterworth de 4º orden y filtros FIR de diferentes órdenes y ventanas para observar cómo cambia la respuesta en frecuencia. **Nota: Para efectos de este punto, NO utilices dB como unidad en la magnitud**\n",
    "\n",
    "**Diseño de Filtros FIR e IIR**\n",
    "Obtener un filtro IIR Butterworth de 4º orden de rechazo de banda con las siguientes frecuencias de corte:\n",
    "  - Frecuencias de corte: $ f_{c1} = 5$kHz y $f_{c2} = 5.5kHz$\n",
    "  - Frecuencia de muestreo: $f_s = 20$kHz\n",
    "\n",
    "**(2 Puntos) Gráficas de Magnitud y Fase Comparativas**\n",
    "Para cada ventana (Boxcar y Hanning), graficar la magnitud y fase de los filtros FIR de orden 20, 100 y 200, superpuestos con la magnitud y fase del filtro IIR. Brevemente describa las diferencias observadas\n"
   ]
  },
  {
   "cell_type": "markdown",
   "metadata": {
    "id": "FV1xrQlpEbKo"
   },
   "source": [
    "### Punto 4: Aplicación de Filtros FIR e IIR en Señales con Ruido\n",
    "\n",
    "En este punto, se pondrán en práctica los conceptos aprendidos diseñando y aplicando filtros para limpiar una señal contaminada. **NOTA: el filtrado se debe hace utilizando el teorema de la convolución (producto en frecuencia)**\n",
    "\n",
    "**Generación de Señal con Ruido y Frecuencia Alta Contaminante**\n",
    "   - Generar una señal senoidal de baja frecuencia (ej., $f_{señal} = 50$Hz) con una frecuencia de muestreo de $f_s = 1000$Hz.\n",
    "   - Agregar a la señal un componente de frecuencia alta, por ejemplo, una señal senoidal de 200Hz.\n",
    "   - Agregar ruido aleatorio (de amplitud baja) para simular ruido de alta y baja frecuencia en la señal.\n",
    "\n",
    "**Diseño de Filtros para Limpiar la Señal Contaminada**\n",
    "   - **Filtro de Rechazo de Banda**: Diseñar un filtro FIR y un IIR de rechazo de banda para eliminar la señal de alta frecuencia (200 Hz).\n",
    "   - **Filtro Pasa-Banda**: Diseñar un filtro FIR y un IIR pasa-banda para eliminar el ruido de altas y bajas frecuencias, conservando solo el rango de la señal original (en torno a 50 Hz).\n",
    "\n",
    "1. **(1 Punto) Análisis del espectro**\n",
    "\n",
    "  Graficar el espectro (magnitud y fase) de la señal contaminada y de los filtros diseñados (son 4 filtros).\n",
    "\n",
    "1. **(1 Punto) Aplicación y Comparación de Resultados**\n",
    "\n",
    "    **Nota: aquí si debes utilizar dB en las gráficas del espectro**\n",
    "\n",
    "   Aplicar los filtros diseñados a la señal contaminada. Graficar el espectro y comparar la señal original, la señal contaminada y las señales filtradas (una gráfica para el filtro de rechazo y de banda juntos). Son dos gráficas.\n",
    "\n"
   ]
  },
  {
   "cell_type": "code",
   "execution_count": null,
   "metadata": {
    "id": "1FIUa5ARCQP4"
   },
   "outputs": [],
   "source": []
  }
 ],
 "metadata": {
  "colab": {
   "provenance": []
  },
  "kernelspec": {
   "display_name": "Python 3",
   "name": "python3"
  },
  "language_info": {
   "name": "python"
  }
 },
 "nbformat": 4,
 "nbformat_minor": 0
}
